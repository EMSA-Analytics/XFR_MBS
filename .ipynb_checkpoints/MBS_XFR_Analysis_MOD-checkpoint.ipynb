{
 "cells": [
  {
   "cell_type": "code",
   "execution_count": 1,
   "metadata": {},
   "outputs": [],
   "source": [
    "import numpy as np\n",
    "import pandas as pd\n",
    "import matplotlib.pyplot as plt\n",
    "from matplotlib import rc\n",
    "from decimal import Decimal\n",
    "import seaborn as sns\n",
    "sns.set(style=\"whitegrid\")"
   ]
  },
  {
   "cell_type": "code",
   "execution_count": 5,
   "metadata": {},
   "outputs": [],
   "source": [
    "path =r\"C:/Users/mjc341/Desktop/UMAN 1543 MBS Transfer Admissions Analysis/Amilcahs_FILES\""
   ]
  },
  {
   "cell_type": "code",
   "execution_count": 6,
   "metadata": {},
   "outputs": [
    {
     "data": {
      "text/plain": [
       "'C:/Users/mjc341/Desktop/UMAN 1543 MBS Transfer Admissions Analysis/Amilcahs_FILES'"
      ]
     },
     "execution_count": 6,
     "metadata": {},
     "output_type": "execute_result"
    }
   ],
   "source": [
    "path"
   ]
  },
  {
   "cell_type": "code",
   "execution_count": 7,
   "metadata": {},
   "outputs": [],
   "source": [
    "dataset = pd.read_excel(path + \"/XFR_ADBU_DATA_REboot2_v.13.xlsx\", sheet_name=\"AGG_Pop\", \n",
    "                     index_col=False)"
   ]
  },
  {
   "cell_type": "code",
   "execution_count": 8,
   "metadata": {},
   "outputs": [
    {
     "data": {
      "text/html": [
       "<div>\n",
       "<style scoped>\n",
       "    .dataframe tbody tr th:only-of-type {\n",
       "        vertical-align: middle;\n",
       "    }\n",
       "\n",
       "    .dataframe tbody tr th {\n",
       "        vertical-align: top;\n",
       "    }\n",
       "\n",
       "    .dataframe thead th {\n",
       "        text-align: right;\n",
       "    }\n",
       "</style>\n",
       "<table border=\"1\" class=\"dataframe\">\n",
       "  <thead>\n",
       "    <tr style=\"text-align: right;\">\n",
       "      <th></th>\n",
       "      <th>ID</th>\n",
       "      <th>XFR_BUS_UNIQUE_ID</th>\n",
       "      <th>ADMT_TERM</th>\n",
       "      <th>GENDER</th>\n",
       "      <th>FGEN</th>\n",
       "      <th>IM_EFC</th>\n",
       "      <th>AY</th>\n",
       "      <th>PROFILE</th>\n",
       "      <th>FAFSA</th>\n",
       "      <th>COA</th>\n",
       "      <th>...</th>\n",
       "      <th>MTH 161 Pass Fail</th>\n",
       "      <th>MAS 201PASS FAIL</th>\n",
       "      <th>MAS 202 PASS FAIL</th>\n",
       "      <th>FIN 302 Pass FAIL</th>\n",
       "      <th>Unnamed: 64</th>\n",
       "      <th>Unnamed: 65</th>\n",
       "      <th>Unnamed: 66</th>\n",
       "      <th>Unnamed: 67</th>\n",
       "      <th>Unnamed: 68</th>\n",
       "      <th>GRADES</th>\n",
       "    </tr>\n",
       "  </thead>\n",
       "  <tbody>\n",
       "    <tr>\n",
       "      <th>0</th>\n",
       "      <td>50432885</td>\n",
       "      <td>2158-50432885</td>\n",
       "      <td>2158</td>\n",
       "      <td>Male</td>\n",
       "      <td>0</td>\n",
       "      <td>164603.0</td>\n",
       "      <td>2016.0</td>\n",
       "      <td>Y</td>\n",
       "      <td>Y</td>\n",
       "      <td>62342.0</td>\n",
       "      <td>...</td>\n",
       "      <td>0</td>\n",
       "      <td>FAIL</td>\n",
       "      <td>PASS</td>\n",
       "      <td>0</td>\n",
       "      <td>NaN</td>\n",
       "      <td>NaN</td>\n",
       "      <td>NaN</td>\n",
       "      <td>NaN</td>\n",
       "      <td>NaN</td>\n",
       "      <td>''=IF(AG2= \"A+\", \"A\",IF(AG2=\"A\",\"A\",IF(AG2=\"A-...</td>\n",
       "    </tr>\n",
       "  </tbody>\n",
       "</table>\n",
       "<p>1 rows × 70 columns</p>\n",
       "</div>"
      ],
      "text/plain": [
       "         ID XFR_BUS_UNIQUE_ID  ADMT_TERM GENDER  FGEN    IM_EFC      AY  \\\n",
       "0  50432885     2158-50432885       2158   Male     0  164603.0  2016.0   \n",
       "\n",
       "  PROFILE FAFSA      COA                        ...                          \\\n",
       "0       Y     Y  62342.0                        ...                           \n",
       "\n",
       "   MTH 161 Pass Fail  MAS 201PASS FAIL  MAS 202 PASS FAIL FIN 302 Pass FAIL  \\\n",
       "0                  0              FAIL               PASS                 0   \n",
       "\n",
       "   Unnamed: 64  Unnamed: 65 Unnamed: 66  Unnamed: 67 Unnamed: 68  \\\n",
       "0          NaN          NaN         NaN          NaN         NaN   \n",
       "\n",
       "                                              GRADES  \n",
       "0  ''=IF(AG2= \"A+\", \"A\",IF(AG2=\"A\",\"A\",IF(AG2=\"A-...  \n",
       "\n",
       "[1 rows x 70 columns]"
      ]
     },
     "execution_count": 8,
     "metadata": {},
     "output_type": "execute_result"
    }
   ],
   "source": [
    "dataset.head(1)"
   ]
  },
  {
   "cell_type": "code",
   "execution_count": 9,
   "metadata": {},
   "outputs": [],
   "source": [
    "dataset.drop(columns=['GRADES','Unnamed: 64', 'Unnamed: 65',\n",
    "                      'Unnamed: 66','Unnamed: 67','Unnamed: 68'],\n",
    "            inplace=True)"
   ]
  },
  {
   "cell_type": "code",
   "execution_count": 10,
   "metadata": {},
   "outputs": [],
   "source": [
    "dataset[\"URM\"]=0\n",
    "dataset.loc[dataset['ETH'] == \"American Indian/Alaska Native\", 'URM'] = 1\n",
    "dataset.loc[dataset['ETH'] == \"Black/African American\", 'URM'] = 1\n",
    "dataset.loc[dataset['ETH'] == \"Hispanic/Latino\", 'URM'] = 1\n",
    "dataset.loc[dataset['ETH'] == \"Native Hawaiian/Other Pacific Islander\", 'URM'] = 1\n",
    "dataset.loc[dataset['ETH'] == \"Two or More Races\", 'URM'] = 1"
   ]
  },
  {
   "cell_type": "code",
   "execution_count": 25,
   "metadata": {},
   "outputs": [
    {
     "data": {
      "text/html": [
       "<div>\n",
       "<style scoped>\n",
       "    .dataframe tbody tr th:only-of-type {\n",
       "        vertical-align: middle;\n",
       "    }\n",
       "\n",
       "    .dataframe tbody tr th {\n",
       "        vertical-align: top;\n",
       "    }\n",
       "\n",
       "    .dataframe thead th {\n",
       "        text-align: right;\n",
       "    }\n",
       "</style>\n",
       "<table border=\"1\" class=\"dataframe\">\n",
       "  <thead>\n",
       "    <tr style=\"text-align: right;\">\n",
       "      <th></th>\n",
       "      <th>ID</th>\n",
       "      <th>XFR_BUS_UNIQUE_ID</th>\n",
       "      <th>ADMT_TERM</th>\n",
       "      <th>GENDER</th>\n",
       "      <th>FGEN</th>\n",
       "      <th>IM_EFC</th>\n",
       "      <th>AY</th>\n",
       "      <th>PROFILE</th>\n",
       "      <th>FAFSA</th>\n",
       "      <th>COA</th>\n",
       "      <th>...</th>\n",
       "      <th>MAS202_5_point_Scale</th>\n",
       "      <th>MAS202_FULL_Scale</th>\n",
       "      <th>FIN302_GRADE</th>\n",
       "      <th>FIN302_5_point_Scale</th>\n",
       "      <th>FIN302_FULL_Scale</th>\n",
       "      <th>MTH 161 Pass Fail</th>\n",
       "      <th>MAS 201PASS FAIL</th>\n",
       "      <th>MAS 202 PASS FAIL</th>\n",
       "      <th>FIN 302 Pass FAIL</th>\n",
       "      <th>URM</th>\n",
       "    </tr>\n",
       "  </thead>\n",
       "  <tbody>\n",
       "    <tr>\n",
       "      <th>0</th>\n",
       "      <td>50432885</td>\n",
       "      <td>2158-50432885</td>\n",
       "      <td>2158</td>\n",
       "      <td>Male</td>\n",
       "      <td>0</td>\n",
       "      <td>164603.0</td>\n",
       "      <td>2016.0</td>\n",
       "      <td>Y</td>\n",
       "      <td>Y</td>\n",
       "      <td>62342.0</td>\n",
       "      <td>...</td>\n",
       "      <td>C</td>\n",
       "      <td>2</td>\n",
       "      <td></td>\n",
       "      <td></td>\n",
       "      <td></td>\n",
       "      <td>0</td>\n",
       "      <td>FAIL</td>\n",
       "      <td>PASS</td>\n",
       "      <td>0</td>\n",
       "      <td>0</td>\n",
       "    </tr>\n",
       "  </tbody>\n",
       "</table>\n",
       "<p>1 rows × 65 columns</p>\n",
       "</div>"
      ],
      "text/plain": [
       "         ID XFR_BUS_UNIQUE_ID  ADMT_TERM GENDER  FGEN    IM_EFC      AY  \\\n",
       "0  50432885     2158-50432885       2158   Male     0  164603.0  2016.0   \n",
       "\n",
       "  PROFILE FAFSA      COA ...   MAS202_5_point_Scale  MAS202_FULL_Scale  \\\n",
       "0       Y     Y  62342.0 ...                      C                  2   \n",
       "\n",
       "   FIN302_GRADE FIN302_5_point_Scale  FIN302_FULL_Scale  MTH 161 Pass Fail  \\\n",
       "0                                                                        0   \n",
       "\n",
       "  MAS 201PASS FAIL  MAS 202 PASS FAIL FIN 302 Pass FAIL  URM  \n",
       "0             FAIL               PASS                 0    0  \n",
       "\n",
       "[1 rows x 65 columns]"
      ]
     },
     "execution_count": 25,
     "metadata": {},
     "output_type": "execute_result"
    }
   ],
   "source": [
    "dataset.head(1)"
   ]
  },
  {
   "cell_type": "code",
   "execution_count": 12,
   "metadata": {},
   "outputs": [],
   "source": [
    "#For Yr 1 aggregate persistence\n",
    "dataset2 = dataset.loc[dataset['ADMT_TERM']<2178]\n",
    "#For Yr 2 aggregate persistence\n",
    "dataset3 = dataset.loc[dataset['ADMT_TERM']<2168]"
   ]
  },
  {
   "cell_type": "code",
   "execution_count": 13,
   "metadata": {},
   "outputs": [
    {
     "data": {
      "text/html": [
       "<div>\n",
       "<style scoped>\n",
       "    .dataframe tbody tr th:only-of-type {\n",
       "        vertical-align: middle;\n",
       "    }\n",
       "\n",
       "    .dataframe tbody tr th {\n",
       "        vertical-align: top;\n",
       "    }\n",
       "\n",
       "    .dataframe thead tr th {\n",
       "        text-align: left;\n",
       "    }\n",
       "\n",
       "    .dataframe thead tr:last-of-type th {\n",
       "        text-align: right;\n",
       "    }\n",
       "</style>\n",
       "<table border=\"1\" class=\"dataframe\">\n",
       "  <thead>\n",
       "    <tr>\n",
       "      <th></th>\n",
       "      <th></th>\n",
       "      <th colspan=\"3\" halign=\"left\">len</th>\n",
       "    </tr>\n",
       "    <tr>\n",
       "      <th></th>\n",
       "      <th></th>\n",
       "      <th colspan=\"3\" halign=\"left\">ID</th>\n",
       "    </tr>\n",
       "    <tr>\n",
       "      <th></th>\n",
       "      <th>PERSIST_YR1</th>\n",
       "      <th>0.0</th>\n",
       "      <th>1.0</th>\n",
       "      <th>Total</th>\n",
       "    </tr>\n",
       "    <tr>\n",
       "      <th>COMBO_ADMIT</th>\n",
       "      <th>URM</th>\n",
       "      <th></th>\n",
       "      <th></th>\n",
       "      <th></th>\n",
       "    </tr>\n",
       "  </thead>\n",
       "  <tbody>\n",
       "    <tr>\n",
       "      <th rowspan=\"2\" valign=\"top\">MBS Freshmen</th>\n",
       "      <th>0</th>\n",
       "      <td>10.0</td>\n",
       "      <td>90.0</td>\n",
       "      <td>100.0</td>\n",
       "    </tr>\n",
       "    <tr>\n",
       "      <th>1</th>\n",
       "      <td>6.0</td>\n",
       "      <td>94.0</td>\n",
       "      <td>100.0</td>\n",
       "    </tr>\n",
       "    <tr>\n",
       "      <th rowspan=\"2\" valign=\"top\">MBS Transfers</th>\n",
       "      <th>0</th>\n",
       "      <td>6.0</td>\n",
       "      <td>94.0</td>\n",
       "      <td>100.0</td>\n",
       "    </tr>\n",
       "    <tr>\n",
       "      <th>1</th>\n",
       "      <td>7.0</td>\n",
       "      <td>93.0</td>\n",
       "      <td>100.0</td>\n",
       "    </tr>\n",
       "    <tr>\n",
       "      <th rowspan=\"2\" valign=\"top\">Transfer-ADBU</th>\n",
       "      <th>0</th>\n",
       "      <td>12.0</td>\n",
       "      <td>88.0</td>\n",
       "      <td>100.0</td>\n",
       "    </tr>\n",
       "    <tr>\n",
       "      <th>1</th>\n",
       "      <td>14.0</td>\n",
       "      <td>86.0</td>\n",
       "      <td>100.0</td>\n",
       "    </tr>\n",
       "    <tr>\n",
       "      <th>Total</th>\n",
       "      <th></th>\n",
       "      <td>9.0</td>\n",
       "      <td>91.0</td>\n",
       "      <td>100.0</td>\n",
       "    </tr>\n",
       "  </tbody>\n",
       "</table>\n",
       "</div>"
      ],
      "text/plain": [
       "                    len             \n",
       "                     ID             \n",
       "PERSIST_YR1         0.0   1.0  Total\n",
       "COMBO_ADMIT   URM                   \n",
       "MBS Freshmen  0    10.0  90.0  100.0\n",
       "              1     6.0  94.0  100.0\n",
       "MBS Transfers 0     6.0  94.0  100.0\n",
       "              1     7.0  93.0  100.0\n",
       "Transfer-ADBU 0    12.0  88.0  100.0\n",
       "              1    14.0  86.0  100.0\n",
       "Total               9.0  91.0  100.0"
      ]
     },
     "execution_count": 13,
     "metadata": {},
     "output_type": "execute_result"
    }
   ],
   "source": [
    "persistyr1_table = dataset2.pivot_table(index=[\"COMBO_ADMIT\",\"URM\"],values=[\"ID\"],\n",
    "                       columns=['PERSIST_YR1'], aggfunc=[#np.mean,\n",
    "                           len],margins=True, margins_name= 'Total',fill_value=0)\n",
    "\n",
    "persistyr1_table.div( persistyr1_table.iloc[:,-1], axis=0 ).mul(100).round(0)"
   ]
  },
  {
   "cell_type": "code",
   "execution_count": 15,
   "metadata": {},
   "outputs": [
    {
     "data": {
      "text/html": [
       "<div>\n",
       "<style scoped>\n",
       "    .dataframe tbody tr th:only-of-type {\n",
       "        vertical-align: middle;\n",
       "    }\n",
       "\n",
       "    .dataframe tbody tr th {\n",
       "        vertical-align: top;\n",
       "    }\n",
       "\n",
       "    .dataframe thead tr th {\n",
       "        text-align: left;\n",
       "    }\n",
       "\n",
       "    .dataframe thead tr:last-of-type th {\n",
       "        text-align: right;\n",
       "    }\n",
       "</style>\n",
       "<table border=\"1\" class=\"dataframe\">\n",
       "  <thead>\n",
       "    <tr>\n",
       "      <th></th>\n",
       "      <th></th>\n",
       "      <th colspan=\"3\" halign=\"left\">mean</th>\n",
       "      <th colspan=\"3\" halign=\"left\">len</th>\n",
       "    </tr>\n",
       "    <tr>\n",
       "      <th></th>\n",
       "      <th></th>\n",
       "      <th colspan=\"3\" halign=\"left\">ID</th>\n",
       "      <th colspan=\"3\" halign=\"left\">ID</th>\n",
       "    </tr>\n",
       "    <tr>\n",
       "      <th></th>\n",
       "      <th>PERSIST_YR1</th>\n",
       "      <th>0.0</th>\n",
       "      <th>1.0</th>\n",
       "      <th>Total</th>\n",
       "      <th>0.0</th>\n",
       "      <th>1.0</th>\n",
       "      <th>Total</th>\n",
       "    </tr>\n",
       "    <tr>\n",
       "      <th>COMBO_ADMIT</th>\n",
       "      <th>URM</th>\n",
       "      <th></th>\n",
       "      <th></th>\n",
       "      <th></th>\n",
       "      <th></th>\n",
       "      <th></th>\n",
       "      <th></th>\n",
       "    </tr>\n",
       "  </thead>\n",
       "  <tbody>\n",
       "    <tr>\n",
       "      <th rowspan=\"2\" valign=\"top\">MBS Freshmen</th>\n",
       "      <th>0</th>\n",
       "      <td>7723537.0</td>\n",
       "      <td>7737903.0</td>\n",
       "      <td>7736462.0</td>\n",
       "      <td>10.0</td>\n",
       "      <td>90.0</td>\n",
       "      <td>100.0</td>\n",
       "    </tr>\n",
       "    <tr>\n",
       "      <th>1</th>\n",
       "      <td>19049223.0</td>\n",
       "      <td>18977432.0</td>\n",
       "      <td>18981476.0</td>\n",
       "      <td>6.0</td>\n",
       "      <td>94.0</td>\n",
       "      <td>100.0</td>\n",
       "    </tr>\n",
       "    <tr>\n",
       "      <th rowspan=\"2\" valign=\"top\">MBS Transfers</th>\n",
       "      <th>0</th>\n",
       "      <td>166003695.0</td>\n",
       "      <td>171341814.0</td>\n",
       "      <td>170997419.0</td>\n",
       "      <td>6.0</td>\n",
       "      <td>94.0</td>\n",
       "      <td>100.0</td>\n",
       "    </tr>\n",
       "    <tr>\n",
       "      <th>1</th>\n",
       "      <td>186418103.0</td>\n",
       "      <td>181900670.0</td>\n",
       "      <td>182212217.0</td>\n",
       "      <td>7.0</td>\n",
       "      <td>93.0</td>\n",
       "      <td>100.0</td>\n",
       "    </tr>\n",
       "    <tr>\n",
       "      <th rowspan=\"2\" valign=\"top\">Transfer-ADBU</th>\n",
       "      <th>0</th>\n",
       "      <td>89048477.0</td>\n",
       "      <td>90667898.0</td>\n",
       "      <td>90475764.0</td>\n",
       "      <td>12.0</td>\n",
       "      <td>88.0</td>\n",
       "      <td>100.0</td>\n",
       "    </tr>\n",
       "    <tr>\n",
       "      <th>1</th>\n",
       "      <td>120293036.0</td>\n",
       "      <td>121291672.0</td>\n",
       "      <td>121155494.0</td>\n",
       "      <td>14.0</td>\n",
       "      <td>86.0</td>\n",
       "      <td>100.0</td>\n",
       "    </tr>\n",
       "    <tr>\n",
       "      <th>Total</th>\n",
       "      <th></th>\n",
       "      <td>4693861.0</td>\n",
       "      <td>4705183.0</td>\n",
       "      <td>4704165.0</td>\n",
       "      <td>9.0</td>\n",
       "      <td>91.0</td>\n",
       "      <td>100.0</td>\n",
       "    </tr>\n",
       "  </tbody>\n",
       "</table>\n",
       "</div>"
      ],
      "text/plain": [
       "                          mean                             len             \n",
       "                            ID                              ID             \n",
       "PERSIST_YR1                0.0          1.0        Total   0.0   1.0  Total\n",
       "COMBO_ADMIT   URM                                                          \n",
       "MBS Freshmen  0      7723537.0    7737903.0    7736462.0  10.0  90.0  100.0\n",
       "              1     19049223.0   18977432.0   18981476.0   6.0  94.0  100.0\n",
       "MBS Transfers 0    166003695.0  171341814.0  170997419.0   6.0  94.0  100.0\n",
       "              1    186418103.0  181900670.0  182212217.0   7.0  93.0  100.0\n",
       "Transfer-ADBU 0     89048477.0   90667898.0   90475764.0  12.0  88.0  100.0\n",
       "              1    120293036.0  121291672.0  121155494.0  14.0  86.0  100.0\n",
       "Total                4693861.0    4705183.0    4704165.0   9.0  91.0  100.0"
      ]
     },
     "execution_count": 15,
     "metadata": {},
     "output_type": "execute_result"
    }
   ],
   "source": [
    "#here you can see that you cannot get the mean because it is using the ID as INT but you CAN get len which is the count\n",
    "#margins=True special all columns and rowws will be added with aggfunc OR value here he adds 0 then changes the margins col\n",
    "#with df.div\n",
    "persistyr1_table_MN = dataset2.pivot_table(index=[\"COMBO_ADMIT\",\"URM\"],values=[\"ID\"],\n",
    "                       columns=['PERSIST_YR1'], aggfunc=[np.mean,\n",
    "                           len],margins=True, margins_name= 'Total',fill_value=0)\n",
    "#df.div the first arguement is a new df created with iloc, axis is 0 which is index\n",
    "\"\"\" DataFrame.div(other, axis='columns', level=None, fill_value=None)[source]\n",
    "Floating division of dataframe and other, element-wise (binary operator truediv).\n",
    "Equivalent to dataframe / other, but with support to substitute a fill_value for missing data in one of the inputs\"\"\"\n",
    "\n",
    "persistyr1_table_MN.div( persistyr1_table.iloc[:,-1], axis=0 ).mul(100).round(0)"
   ]
  },
  {
   "cell_type": "code",
   "execution_count": 16,
   "metadata": {},
   "outputs": [
    {
     "data": {
      "text/html": [
       "<div>\n",
       "<style scoped>\n",
       "    .dataframe tbody tr th:only-of-type {\n",
       "        vertical-align: middle;\n",
       "    }\n",
       "\n",
       "    .dataframe tbody tr th {\n",
       "        vertical-align: top;\n",
       "    }\n",
       "\n",
       "    .dataframe thead tr th {\n",
       "        text-align: left;\n",
       "    }\n",
       "\n",
       "    .dataframe thead tr:last-of-type th {\n",
       "        text-align: right;\n",
       "    }\n",
       "</style>\n",
       "<table border=\"1\" class=\"dataframe\">\n",
       "  <thead>\n",
       "    <tr>\n",
       "      <th></th>\n",
       "      <th></th>\n",
       "      <th colspan=\"3\" halign=\"left\">len</th>\n",
       "    </tr>\n",
       "    <tr>\n",
       "      <th></th>\n",
       "      <th></th>\n",
       "      <th colspan=\"3\" halign=\"left\">ID</th>\n",
       "    </tr>\n",
       "    <tr>\n",
       "      <th></th>\n",
       "      <th>PERSIST_YR1</th>\n",
       "      <th>0.0</th>\n",
       "      <th>1.0</th>\n",
       "      <th>Total</th>\n",
       "    </tr>\n",
       "    <tr>\n",
       "      <th>COMBO_ADMIT</th>\n",
       "      <th>FGEN</th>\n",
       "      <th></th>\n",
       "      <th></th>\n",
       "      <th></th>\n",
       "    </tr>\n",
       "  </thead>\n",
       "  <tbody>\n",
       "    <tr>\n",
       "      <th rowspan=\"2\" valign=\"top\">MBS Freshmen</th>\n",
       "      <th>0</th>\n",
       "      <td>9.0</td>\n",
       "      <td>91.0</td>\n",
       "      <td>100.0</td>\n",
       "    </tr>\n",
       "    <tr>\n",
       "      <th>1</th>\n",
       "      <td>10.0</td>\n",
       "      <td>90.0</td>\n",
       "      <td>100.0</td>\n",
       "    </tr>\n",
       "    <tr>\n",
       "      <th rowspan=\"2\" valign=\"top\">MBS Transfers</th>\n",
       "      <th>0</th>\n",
       "      <td>7.0</td>\n",
       "      <td>93.0</td>\n",
       "      <td>100.0</td>\n",
       "    </tr>\n",
       "    <tr>\n",
       "      <th>1</th>\n",
       "      <td>6.0</td>\n",
       "      <td>94.0</td>\n",
       "      <td>100.0</td>\n",
       "    </tr>\n",
       "    <tr>\n",
       "      <th rowspan=\"2\" valign=\"top\">Transfer-ADBU</th>\n",
       "      <th>0</th>\n",
       "      <td>15.0</td>\n",
       "      <td>85.0</td>\n",
       "      <td>100.0</td>\n",
       "    </tr>\n",
       "    <tr>\n",
       "      <th>1</th>\n",
       "      <td>7.0</td>\n",
       "      <td>93.0</td>\n",
       "      <td>100.0</td>\n",
       "    </tr>\n",
       "    <tr>\n",
       "      <th>Total</th>\n",
       "      <th></th>\n",
       "      <td>9.0</td>\n",
       "      <td>91.0</td>\n",
       "      <td>100.0</td>\n",
       "    </tr>\n",
       "  </tbody>\n",
       "</table>\n",
       "</div>"
      ],
      "text/plain": [
       "                     len             \n",
       "                      ID             \n",
       "PERSIST_YR1          0.0   1.0  Total\n",
       "COMBO_ADMIT   FGEN                   \n",
       "MBS Freshmen  0      9.0  91.0  100.0\n",
       "              1     10.0  90.0  100.0\n",
       "MBS Transfers 0      7.0  93.0  100.0\n",
       "              1      6.0  94.0  100.0\n",
       "Transfer-ADBU 0     15.0  85.0  100.0\n",
       "              1      7.0  93.0  100.0\n",
       "Total                9.0  91.0  100.0"
      ]
     },
     "execution_count": 16,
     "metadata": {},
     "output_type": "execute_result"
    }
   ],
   "source": [
    "persistyr1_table = dataset2.pivot_table(index=[\"COMBO_ADMIT\",\"FGEN\"],values=[\"ID\"],\n",
    "                       columns=['PERSIST_YR1'], aggfunc=[#np.mean,\n",
    "                           len],margins=True, margins_name= 'Total',fill_value=0)\n",
    "\n",
    "persistyr1_table.div( persistyr1_table.iloc[:,-1], axis=0 ).mul(100).round(0)"
   ]
  },
  {
   "cell_type": "code",
   "execution_count": 17,
   "metadata": {},
   "outputs": [
    {
     "data": {
      "text/html": [
       "<div>\n",
       "<style scoped>\n",
       "    .dataframe tbody tr th:only-of-type {\n",
       "        vertical-align: middle;\n",
       "    }\n",
       "\n",
       "    .dataframe tbody tr th {\n",
       "        vertical-align: top;\n",
       "    }\n",
       "\n",
       "    .dataframe thead tr th {\n",
       "        text-align: left;\n",
       "    }\n",
       "\n",
       "    .dataframe thead tr:last-of-type th {\n",
       "        text-align: right;\n",
       "    }\n",
       "</style>\n",
       "<table border=\"1\" class=\"dataframe\">\n",
       "  <thead>\n",
       "    <tr>\n",
       "      <th></th>\n",
       "      <th></th>\n",
       "      <th colspan=\"3\" halign=\"left\">len</th>\n",
       "    </tr>\n",
       "    <tr>\n",
       "      <th></th>\n",
       "      <th></th>\n",
       "      <th colspan=\"3\" halign=\"left\">ID</th>\n",
       "    </tr>\n",
       "    <tr>\n",
       "      <th></th>\n",
       "      <th>PERSIST_YR1</th>\n",
       "      <th>0.0</th>\n",
       "      <th>1.0</th>\n",
       "      <th>Total</th>\n",
       "    </tr>\n",
       "    <tr>\n",
       "      <th>COMBO_ADMIT</th>\n",
       "      <th>NDRK7</th>\n",
       "      <th></th>\n",
       "      <th></th>\n",
       "      <th></th>\n",
       "    </tr>\n",
       "  </thead>\n",
       "  <tbody>\n",
       "    <tr>\n",
       "      <th rowspan=\"2\" valign=\"top\">MBS Freshmen</th>\n",
       "      <th>0</th>\n",
       "      <td>9.0</td>\n",
       "      <td>91.0</td>\n",
       "      <td>100.0</td>\n",
       "    </tr>\n",
       "    <tr>\n",
       "      <th>1</th>\n",
       "      <td>0.0</td>\n",
       "      <td>100.0</td>\n",
       "      <td>100.0</td>\n",
       "    </tr>\n",
       "    <tr>\n",
       "      <th rowspan=\"2\" valign=\"top\">MBS Transfers</th>\n",
       "      <th>0</th>\n",
       "      <td>7.0</td>\n",
       "      <td>93.0</td>\n",
       "      <td>100.0</td>\n",
       "    </tr>\n",
       "    <tr>\n",
       "      <th>1</th>\n",
       "      <td>0.0</td>\n",
       "      <td>100.0</td>\n",
       "      <td>100.0</td>\n",
       "    </tr>\n",
       "    <tr>\n",
       "      <th rowspan=\"2\" valign=\"top\">Transfer-ADBU</th>\n",
       "      <th>0</th>\n",
       "      <td>12.0</td>\n",
       "      <td>88.0</td>\n",
       "      <td>100.0</td>\n",
       "    </tr>\n",
       "    <tr>\n",
       "      <th>1</th>\n",
       "      <td>17.0</td>\n",
       "      <td>83.0</td>\n",
       "      <td>100.0</td>\n",
       "    </tr>\n",
       "    <tr>\n",
       "      <th>Total</th>\n",
       "      <th></th>\n",
       "      <td>9.0</td>\n",
       "      <td>91.0</td>\n",
       "      <td>100.0</td>\n",
       "    </tr>\n",
       "  </tbody>\n",
       "</table>\n",
       "</div>"
      ],
      "text/plain": [
       "                      len              \n",
       "                       ID              \n",
       "PERSIST_YR1           0.0    1.0  Total\n",
       "COMBO_ADMIT   NDRK7                    \n",
       "MBS Freshmen  0       9.0   91.0  100.0\n",
       "              1       0.0  100.0  100.0\n",
       "MBS Transfers 0       7.0   93.0  100.0\n",
       "              1       0.0  100.0  100.0\n",
       "Transfer-ADBU 0      12.0   88.0  100.0\n",
       "              1      17.0   83.0  100.0\n",
       "Total                 9.0   91.0  100.0"
      ]
     },
     "execution_count": 17,
     "metadata": {},
     "output_type": "execute_result"
    }
   ],
   "source": [
    "persistyr1_table = dataset2.pivot_table(index=[\"COMBO_ADMIT\",\"NDRK7\"],values=[\"ID\"],\n",
    "                       columns=['PERSIST_YR1'], aggfunc=[#np.mean,\n",
    "                           len],margins=True, margins_name= 'Total',fill_value=0)\n",
    "\n",
    "persistyr1_table.div( persistyr1_table.iloc[:,-1], axis=0 ).mul(100).round(0)"
   ]
  },
  {
   "cell_type": "code",
   "execution_count": 18,
   "metadata": {},
   "outputs": [],
   "source": [
    "bu_dataset2 = dataset2.loc[dataset2['PERSIST_YR1']==1]"
   ]
  },
  {
   "cell_type": "code",
   "execution_count": 19,
   "metadata": {},
   "outputs": [
    {
     "data": {
      "text/html": [
       "<div>\n",
       "<style scoped>\n",
       "    .dataframe tbody tr th:only-of-type {\n",
       "        vertical-align: middle;\n",
       "    }\n",
       "\n",
       "    .dataframe tbody tr th {\n",
       "        vertical-align: top;\n",
       "    }\n",
       "\n",
       "    .dataframe thead tr th {\n",
       "        text-align: left;\n",
       "    }\n",
       "\n",
       "    .dataframe thead tr:last-of-type th {\n",
       "        text-align: right;\n",
       "    }\n",
       "</style>\n",
       "<table border=\"1\" class=\"dataframe\">\n",
       "  <thead>\n",
       "    <tr>\n",
       "      <th></th>\n",
       "      <th colspan=\"3\" halign=\"left\">len</th>\n",
       "    </tr>\n",
       "    <tr>\n",
       "      <th></th>\n",
       "      <th colspan=\"3\" halign=\"left\">ID</th>\n",
       "    </tr>\n",
       "    <tr>\n",
       "      <th>PERSIST_BU_YR1</th>\n",
       "      <th>0</th>\n",
       "      <th>1</th>\n",
       "      <th>Total</th>\n",
       "    </tr>\n",
       "    <tr>\n",
       "      <th>COMBO_ADMIT</th>\n",
       "      <th></th>\n",
       "      <th></th>\n",
       "      <th></th>\n",
       "    </tr>\n",
       "  </thead>\n",
       "  <tbody>\n",
       "    <tr>\n",
       "      <th>MBS Freshmen</th>\n",
       "      <td>7.0</td>\n",
       "      <td>93.0</td>\n",
       "      <td>100.0</td>\n",
       "    </tr>\n",
       "    <tr>\n",
       "      <th>MBS Transfers</th>\n",
       "      <td>0.0</td>\n",
       "      <td>100.0</td>\n",
       "      <td>100.0</td>\n",
       "    </tr>\n",
       "    <tr>\n",
       "      <th>Transfer-ADBU</th>\n",
       "      <td>59.0</td>\n",
       "      <td>41.0</td>\n",
       "      <td>100.0</td>\n",
       "    </tr>\n",
       "    <tr>\n",
       "      <th>Total</th>\n",
       "      <td>11.0</td>\n",
       "      <td>89.0</td>\n",
       "      <td>100.0</td>\n",
       "    </tr>\n",
       "  </tbody>\n",
       "</table>\n",
       "</div>"
      ],
      "text/plain": [
       "                 len              \n",
       "                  ID              \n",
       "PERSIST_BU_YR1     0      1  Total\n",
       "COMBO_ADMIT                       \n",
       "MBS Freshmen     7.0   93.0  100.0\n",
       "MBS Transfers    0.0  100.0  100.0\n",
       "Transfer-ADBU   59.0   41.0  100.0\n",
       "Total           11.0   89.0  100.0"
      ]
     },
     "execution_count": 19,
     "metadata": {},
     "output_type": "execute_result"
    }
   ],
   "source": [
    "bu_persistyr1_table = bu_dataset2.pivot_table(index=[\"COMBO_ADMIT\"],values=[\"ID\"],\n",
    "                       columns=['PERSIST_BU_YR1'], aggfunc=[#np.mean,\n",
    "                           len],margins=True, margins_name= 'Total',fill_value=0)\n",
    "\n",
    "bu_persistyr1_table.div( bu_persistyr1_table.iloc[:,-1], axis=0 ).mul(100).round(0)"
   ]
  },
  {
   "cell_type": "code",
   "execution_count": 20,
   "metadata": {},
   "outputs": [
    {
     "data": {
      "image/png": "[encoded data removed]",
      "text/plain": [
       "<Figure size 432x288 with 1 Axes>"
      ]
     },
     "metadata": {},
     "output_type": "display_data"
    }
   ],
   "source": [
    "# Data\n",
    "x=range(1,6)\n",
    "y=[ [1,4,6,8,9], [2,2,7,10,12], [2,8,5,10,6] ]\n",
    " \n",
    "# Plot\n",
    "plt.stackplot(x,y, labels=['A','B','C'])\n",
    "plt.legend(loc='upper left')\n",
    "plt.show()"
   ]
  },
  {
   "cell_type": "code",
   "execution_count": 21,
   "metadata": {},
   "outputs": [],
   "source": [
    "#Pct URM, FGEN, NDRK7, CC pie for transfers"
   ]
  },
  {
   "cell_type": "code",
   "execution_count": 22,
   "metadata": {},
   "outputs": [
    {
     "name": "stderr",
     "output_type": "stream",
     "text": [
      "No handles with labels found to put in legend.\n"
     ]
    },
    {
     "data": {
      "image/png": "[encoded data removed]",
      "text/plain": [
       "<Figure size 432x288 with 1 Axes>"
      ]
     },
     "metadata": {},
     "output_type": "display_data"
    }
   ],
   "source": [
    "# Initialize the matplotlib figure\n",
    "f, ax = plt.subplots()\n",
    "\n",
    "sns.set_color_codes(\"muted\")\n",
    "sns.barplot(x=\"URM\", y=\"COMBO_ADMIT\", data=dataset,\n",
    "            color=\"rebeccapurple\", ci=None)\n",
    "\n",
    "# Add a title\n",
    "plt.title(\"URM Distribution by Admit Group\", fontweight=\"bold\", fontsize=16, loc=\"center\", y=1.08)\n",
    "\n",
    "# Add a legend and informative axis label\n",
    "ax.legend(ncol=2, loc=\"upper left\", frameon=True, bbox_to_anchor=(0,1.1))\n",
    "ax.set(xlim=(0, 1), ylabel=\"Admit Group\",\n",
    "       xlabel=\"Persistence Rate\")\n",
    "sns.despine(left=True, bottom=True)\n",
    "\n",
    "\n",
    "# Iterate through the list of axes' patches\n",
    "for p in ax.patches:\n",
    "    ax.annotate(\"%.0f%s\" % (p.get_width()*100,'%'), (p.get_x() + p.get_width(), p.get_y() + 0.4),\n",
    "                xytext=(5, 10), textcoords='offset points', va='center')\n",
    "\n",
    "# Save graphic to specified path\n",
    "#plt.savefig(path + '/dist_urm.jpg', dpi=300, format='jpg', frameon=False, bbox_inches='tight') # use format='svg' or 'pdf' for vectorial pictures"
   ]
  },
  {
   "cell_type": "code",
   "execution_count": 26,
   "metadata": {},
   "outputs": [
    {
     "data": {
      "image/png": "[encoded data removed]",
      "text/plain": [
       "<Figure size 432x288 with 2 Axes>"
      ]
     },
     "metadata": {},
     "output_type": "display_data"
    }
   ],
   "source": [
    "#rewrote the code to create side by side instead of stacked results\n",
    "# Initialize the matplotlib figure\n",
    "fig, (ax1, ax2) =plt.subplots(ncols =2, sharey =True)\n",
    "sns.set_context('talk')\n",
    "fig.suptitle ('Year 1 Persistence by Admit Group',y=1.09)\n",
    "\n",
    "# Plot total UM persistence\n",
    "sns.set_color_codes(\"pastel\")\n",
    "sns.barplot(x=\"PERSIST_YR1\", y=\"COMBO_ADMIT\",data=dataset2,\n",
    "            label=\"UM Persistence\", color=\"b\", ci=None, ax = ax1)\n",
    "#Add a title\n",
    "#plt.title(\"Year 1 Persistence by Admit Group\", fontweight=\"bold\", fontsize=16, loc=\"center\", y=1.2)\n",
    "\n",
    "# Plot MBS persistence\n",
    "sns.set_color_codes(\"muted\") \n",
    "sns.barplot(x=\"PERSIST_BU_YR1\", y= 'COMBO_ADMIT', data=dataset2,\n",
    "            label=\"MBS Persistence\", color=\"b\", ci=None, ax = ax2)\n",
    "\n",
    "\n",
    "# Add a legend and informative axis label\n",
    "ax1.legend(ncol=2, loc=\"upper left\", frameon=True, bbox_to_anchor=(0,1.1))\n",
    "ax1.set(xlim=(0, 1), ylabel=\"Admit Group\",\n",
    "       xlabel=\"\")\n",
    "sns.despine(left=True, bottom=False) \n",
    "\n",
    "ax2.legend(ncol=2, loc=\"upper left\", frameon=True, bbox_to_anchor=(0,1.1))\n",
    "ax2.set(xlim=(0, 1), ylabel=\"\",\n",
    "       xlabel=\"\")\n",
    "sns.despine(left=True, bottom=False)\n",
    "\n",
    "# Iterate through the list of axes' patches\n",
    "for p in ax1.patches:\n",
    "    ax1.annotate(\"%.0f%s\" % (p.get_width()*100,'%'), (p.get_x() + p.get_width(), p.get_y() + 0.6),\n",
    "                xytext=(5, 10), textcoords='offset points', va='center')\n",
    "for p in ax2.patches:\n",
    "    ax2.annotate(\"%.0f%s\" % (p.get_width()*100,'%'), (p.get_x() + p.get_width(), p.get_y() + 0.6),\n",
    "                xytext=(5, 10), textcoords='offset points', va='center')  \n",
    "# Save graphic to specified path\n",
    "#plt.savefig(path + '/mbs_yr1_persistence_w_2_axis.png', dpi=300, format='png', frameon=False, bbox_inches='tight') # use format='svg' or 'pdf' for vectorial pictures"
   ]
  },
  {
   "cell_type": "code",
   "execution_count": 27,
   "metadata": {},
   "outputs": [
    {
     "data": {
      "image/png": "[encoded data removed]",
      "text/plain": [
       "<Figure size 432x288 with 2 Axes>"
      ]
     },
     "metadata": {},
     "output_type": "display_data"
    }
   ],
   "source": [
    "# Initialize the matplotlib figure\n",
    "# create 2 figures side by side share the Y axis\n",
    "fig, (ax1, ax2) =plt.subplots(ncols =2, sharey =True)\n",
    "sns.set_context('talk')\n",
    "#create a supertitle for both figures, can have titles over each plot also using plt.title\n",
    "fig.suptitle ('Year 2 Persistence by Admit Group',y=1.09)\n",
    "\n",
    "# Plot total UM persistence on ax1\n",
    "sns.set_color_codes(\"pastel\")\n",
    "sns.barplot(x=\"PERSIST_YR2_DEC_N\", y=\"COMBO_ADMIT\",data=dataset3,\n",
    "            label=\"UM Persistence\", color=\"b\", ci=None, ax = ax1)\n",
    "#Add a title\n",
    "#plt.title(\"plt 1\", fontweight=\"bold\", fontsize=16, loc=\"center\", y=1.2)\n",
    "\n",
    "# Plot MBS persistence on ax2\n",
    "sns.set_color_codes(\"muted\")\n",
    "sns.barplot(x=\"PERSIST_BU_YR2_OF_PERSIST\", y= 'COMBO_ADMIT', data=dataset2,\n",
    "            label=\"MBS Persistence\", color=\"b\", ci=None, ax = ax2)\n",
    "\n",
    "#Add a title\n",
    "#plt.title(\"plt 2\", fontweight=\"bold\", fontsize=16, loc=\"center\", y=1.2)\n",
    "\n",
    "# Add a legend and informative axis label for each ax\n",
    "ax1.legend(ncol=2, loc=\"upper left\", frameon=True, bbox_to_anchor=(0,1.1))\n",
    "ax1.set(xlim=(0, 1), ylabel=\"Admit Group\",\n",
    "       xlabel=\"\")\n",
    "sns.despine(left=True, bottom=False) \n",
    "\n",
    "ax2.legend(ncol=2, loc=\"upper left\", frameon=True, bbox_to_anchor=(0,1.1))\n",
    "ax2.set(xlim=(0, 1), ylabel=\"\",\n",
    "       xlabel=\"\")\n",
    "sns.despine(left=True, bottom=False)\n",
    "\n",
    "# Iterate through the list of axes' patches and annotate with a percentage\n",
    "for p in ax1.patches:\n",
    "    ax1.annotate(\"%.0f%s\" % (p.get_width()*100,'%'), (p.get_x() + p.get_width(), p.get_y() + 0.6),\n",
    "                xytext=(5, 10), textcoords='offset points', va='center')\n",
    "for p in ax2.patches:\n",
    "    ax2.annotate(\"%.0f%s\" % (p.get_width()*100,'%'), (p.get_x() + p.get_width(), p.get_y() + 0.6),\n",
    "                xytext=(5, 10), textcoords='offset points', va='center')  \n",
    "# Save graphic to specified path\n",
    "#plt.savefig(path + '/mbs_yr2_persistence_w_2_axis.png', "
   ]
  },
  {
   "cell_type": "code",
   "execution_count": 531,
   "metadata": {
    "scrolled": true
   },
   "outputs": [
    {
     "data": {
      "text/plain": [
       "NDRK7\n",
       "0    84\n",
       "1     4\n",
       "Name: FULL_TIME, dtype: int64"
      ]
     },
     "execution_count": 531,
     "metadata": {},
     "output_type": "execute_result"
    }
   ],
   "source": [
    "dataset.loc[dataset['COMBO_ADMIT']=='XFR_UGBU'].groupby([variable])[\"FULL_TIME\"].sum()"
   ]
  },
  {
   "cell_type": "code",
   "execution_count": 532,
   "metadata": {
    "scrolled": true
   },
   "outputs": [
    {
     "data": {
      "text/plain": [
       "NDRK7\n",
       "0    168\n",
       "1     10\n",
       "Name: FULL_TIME, dtype: int64"
      ]
     },
     "execution_count": 532,
     "metadata": {},
     "output_type": "execute_result"
    }
   ],
   "source": [
    "dataset.loc[dataset['COMBO_ADMIT']=='XFR_ADBU'].groupby([variable])[\"FULL_TIME\"].sum()"
   ]
  },
  {
   "cell_type": "code",
   "execution_count": 533,
   "metadata": {},
   "outputs": [],
   "source": [
    "#Persistence rates"
   ]
  },
  {
   "cell_type": "code",
   "execution_count": 560,
   "metadata": {},
   "outputs": [],
   "source": [
    "#Persistence by Calc ready and for URM, FGEN, and NDRK7"
   ]
  },
  {
   "cell_type": "code",
   "execution_count": 28,
   "metadata": {},
   "outputs": [
    {
     "ename": "ValueError",
     "evalue": "Format 'jpg' is not supported (supported formats: eps, pdf, pgf, png, ps, raw, rgba, svg, svgz)",
     "output_type": "error",
     "traceback": [
      "\u001b[1;31m---------------------------------------------------------------------------\u001b[0m",
      "\u001b[1;31mValueError\u001b[0m                                Traceback (most recent call last)",
      "\u001b[1;32m<ipython-input-28-2be0af51f66c>\u001b[0m in \u001b[0;36m<module>\u001b[1;34m()\u001b[0m\n\u001b[0;32m     22\u001b[0m \u001b[1;33m\u001b[0m\u001b[0m\n\u001b[0;32m     23\u001b[0m \u001b[1;31m# Save graphic to specified path\u001b[0m\u001b[1;33m\u001b[0m\u001b[1;33m\u001b[0m\u001b[0m\n\u001b[1;32m---> 24\u001b[1;33m \u001b[0mplt\u001b[0m\u001b[1;33m.\u001b[0m\u001b[0msavefig\u001b[0m\u001b[1;33m(\u001b[0m\u001b[0mpath\u001b[0m \u001b[1;33m+\u001b[0m \u001b[1;34m'/um_yr1_persistence_calc_ready.jpg'\u001b[0m\u001b[1;33m,\u001b[0m \u001b[0mdpi\u001b[0m\u001b[1;33m=\u001b[0m\u001b[1;36m300\u001b[0m\u001b[1;33m,\u001b[0m \u001b[0mformat\u001b[0m\u001b[1;33m=\u001b[0m\u001b[1;34m'jpg'\u001b[0m\u001b[1;33m,\u001b[0m \u001b[0mframeon\u001b[0m\u001b[1;33m=\u001b[0m\u001b[1;32mFalse\u001b[0m\u001b[1;33m,\u001b[0m \u001b[0mbbox_inches\u001b[0m\u001b[1;33m=\u001b[0m\u001b[1;34m'tight'\u001b[0m\u001b[1;33m)\u001b[0m \u001b[1;31m# use format='svg' or 'pdf' for vectorial pictures\u001b[0m\u001b[1;33m\u001b[0m\u001b[0m\n\u001b[0m",
      "\u001b[1;32m~\\AppData\\Local\\Continuum\\Anaconda3\\lib\\site-packages\\matplotlib\\pyplot.py\u001b[0m in \u001b[0;36msavefig\u001b[1;34m(*args, **kwargs)\u001b[0m\n\u001b[0;32m    708\u001b[0m \u001b[1;32mdef\u001b[0m \u001b[0msavefig\u001b[0m\u001b[1;33m(\u001b[0m\u001b[1;33m*\u001b[0m\u001b[0margs\u001b[0m\u001b[1;33m,\u001b[0m \u001b[1;33m**\u001b[0m\u001b[0mkwargs\u001b[0m\u001b[1;33m)\u001b[0m\u001b[1;33m:\u001b[0m\u001b[1;33m\u001b[0m\u001b[0m\n\u001b[0;32m    709\u001b[0m     \u001b[0mfig\u001b[0m \u001b[1;33m=\u001b[0m \u001b[0mgcf\u001b[0m\u001b[1;33m(\u001b[0m\u001b[1;33m)\u001b[0m\u001b[1;33m\u001b[0m\u001b[0m\n\u001b[1;32m--> 710\u001b[1;33m     \u001b[0mres\u001b[0m \u001b[1;33m=\u001b[0m \u001b[0mfig\u001b[0m\u001b[1;33m.\u001b[0m\u001b[0msavefig\u001b[0m\u001b[1;33m(\u001b[0m\u001b[1;33m*\u001b[0m\u001b[0margs\u001b[0m\u001b[1;33m,\u001b[0m \u001b[1;33m**\u001b[0m\u001b[0mkwargs\u001b[0m\u001b[1;33m)\u001b[0m\u001b[1;33m\u001b[0m\u001b[0m\n\u001b[0m\u001b[0;32m    711\u001b[0m     \u001b[0mfig\u001b[0m\u001b[1;33m.\u001b[0m\u001b[0mcanvas\u001b[0m\u001b[1;33m.\u001b[0m\u001b[0mdraw_idle\u001b[0m\u001b[1;33m(\u001b[0m\u001b[1;33m)\u001b[0m   \u001b[1;31m# need this if 'transparent=True' to reset colors\u001b[0m\u001b[1;33m\u001b[0m\u001b[0m\n\u001b[0;32m    712\u001b[0m     \u001b[1;32mreturn\u001b[0m \u001b[0mres\u001b[0m\u001b[1;33m\u001b[0m\u001b[0m\n",
      "\u001b[1;32m~\\AppData\\Local\\Continuum\\Anaconda3\\lib\\site-packages\\matplotlib\\figure.py\u001b[0m in \u001b[0;36msavefig\u001b[1;34m(self, fname, **kwargs)\u001b[0m\n\u001b[0;32m   2033\u001b[0m             \u001b[0mself\u001b[0m\u001b[1;33m.\u001b[0m\u001b[0mset_frameon\u001b[0m\u001b[1;33m(\u001b[0m\u001b[0mframeon\u001b[0m\u001b[1;33m)\u001b[0m\u001b[1;33m\u001b[0m\u001b[0m\n\u001b[0;32m   2034\u001b[0m \u001b[1;33m\u001b[0m\u001b[0m\n\u001b[1;32m-> 2035\u001b[1;33m         \u001b[0mself\u001b[0m\u001b[1;33m.\u001b[0m\u001b[0mcanvas\u001b[0m\u001b[1;33m.\u001b[0m\u001b[0mprint_figure\u001b[0m\u001b[1;33m(\u001b[0m\u001b[0mfname\u001b[0m\u001b[1;33m,\u001b[0m \u001b[1;33m**\u001b[0m\u001b[0mkwargs\u001b[0m\u001b[1;33m)\u001b[0m\u001b[1;33m\u001b[0m\u001b[0m\n\u001b[0m\u001b[0;32m   2036\u001b[0m \u001b[1;33m\u001b[0m\u001b[0m\n\u001b[0;32m   2037\u001b[0m         \u001b[1;32mif\u001b[0m \u001b[0mframeon\u001b[0m\u001b[1;33m:\u001b[0m\u001b[1;33m\u001b[0m\u001b[0m\n",
      "\u001b[1;32m~\\AppData\\Local\\Continuum\\Anaconda3\\lib\\site-packages\\matplotlib\\backend_bases.py\u001b[0m in \u001b[0;36mprint_figure\u001b[1;34m(self, filename, dpi, facecolor, edgecolor, orientation, format, **kwargs)\u001b[0m\n\u001b[0;32m   2171\u001b[0m \u001b[1;33m\u001b[0m\u001b[0m\n\u001b[0;32m   2172\u001b[0m         \u001b[1;31m# get canvas object and print method for format\u001b[0m\u001b[1;33m\u001b[0m\u001b[1;33m\u001b[0m\u001b[0m\n\u001b[1;32m-> 2173\u001b[1;33m         \u001b[0mcanvas\u001b[0m \u001b[1;33m=\u001b[0m \u001b[0mself\u001b[0m\u001b[1;33m.\u001b[0m\u001b[0m_get_output_canvas\u001b[0m\u001b[1;33m(\u001b[0m\u001b[0mformat\u001b[0m\u001b[1;33m)\u001b[0m\u001b[1;33m\u001b[0m\u001b[0m\n\u001b[0m\u001b[0;32m   2174\u001b[0m         \u001b[0mprint_method\u001b[0m \u001b[1;33m=\u001b[0m \u001b[0mgetattr\u001b[0m\u001b[1;33m(\u001b[0m\u001b[0mcanvas\u001b[0m\u001b[1;33m,\u001b[0m \u001b[1;34m'print_%s'\u001b[0m \u001b[1;33m%\u001b[0m \u001b[0mformat\u001b[0m\u001b[1;33m)\u001b[0m\u001b[1;33m\u001b[0m\u001b[0m\n\u001b[0;32m   2175\u001b[0m \u001b[1;33m\u001b[0m\u001b[0m\n",
      "\u001b[1;32m~\\AppData\\Local\\Continuum\\Anaconda3\\lib\\site-packages\\matplotlib\\backend_bases.py\u001b[0m in \u001b[0;36m_get_output_canvas\u001b[1;34m(self, fmt)\u001b[0m\n\u001b[0;32m   2103\u001b[0m         raise ValueError(\n\u001b[0;32m   2104\u001b[0m             \u001b[1;34m\"Format {!r} is not supported (supported formats: {})\"\u001b[0m\u001b[1;33m\u001b[0m\u001b[0m\n\u001b[1;32m-> 2105\u001b[1;33m             .format(fmt, \", \".join(sorted(self.get_supported_filetypes()))))\n\u001b[0m\u001b[0;32m   2106\u001b[0m \u001b[1;33m\u001b[0m\u001b[0m\n\u001b[0;32m   2107\u001b[0m     def print_figure(self, filename, dpi=None, facecolor=None, edgecolor=None,\n",
      "\u001b[1;31mValueError\u001b[0m: Format 'jpg' is not supported (supported formats: eps, pdf, pgf, png, ps, raw, rgba, svg, svgz)"
     ]
    },
    {
     "data": {
      "image/png": "[encoded data removed]",
      "text/plain": [
       "<Figure size 432x288 with 1 Axes>"
      ]
     },
     "metadata": {},
     "output_type": "display_data"
    }
   ],
   "source": [
    "# Initialize the matplotlib figure\n",
    "f, ax = plt.subplots()\n",
    "\n",
    "sns.set_color_codes(\"muted\")\n",
    "sns.barplot(x=\"PERSIST_YR1\", y=\"COMBO_ADMIT\", hue=\"Calc Ready\", data=dataset2.loc[dataset2['COMBO_ADMIT']!='XFR_UGBU'],\n",
    "            color=\"y\", ci=None)\n",
    "\n",
    "# Add a title\n",
    "plt.title(\"Year 1 UM Persistence by Calculus Readiness and Admit Group\", fontweight=\"bold\", fontsize=16, loc=\"center\", y=1.08)\n",
    "\n",
    "# Add a legend and informative axis label\n",
    "ax.legend(ncol=3, loc=\"upper left\", frameon=True, bbox_to_anchor=(0,1.1))\n",
    "ax.set(xlim=(0, 1), ylabel=\"Admit Group\",\n",
    "       xlabel=\"Persistence Rate\")\n",
    "sns.despine(left=True, bottom=True)\n",
    "\n",
    "\n",
    "# Iterate through the list of axes' patches\n",
    "for p in ax.patches:\n",
    "    ax.annotate(\"%.0f%s\" % (p.get_width()*100,'%'), (p.get_x() + p.get_width(), p.get_y() + 0.3),\n",
    "                xytext=(5, 10), textcoords='offset points', va='center')\n",
    "\n",
    "# Save graphic to specified path\n",
    "plt.savefig(path + '/um_yr1_persistence_calc_ready.jpg', dpi=300, format='jpg', frameon=False, bbox_inches='tight') # use format='svg' or 'pdf' for vectorial pictures"
   ]
  },
  {
   "cell_type": "code",
   "execution_count": 30,
   "metadata": {},
   "outputs": [
    {
     "data": {
      "image/png": "[encoded data removed]",
      "text/plain": [
       "<Figure size 432x288 with 1 Axes>"
      ]
     },
     "metadata": {},
     "output_type": "display_data"
    }
   ],
   "source": [
    "# Initialize the matplotlib figure\n",
    "f, ax = plt.subplots()\n",
    "\n",
    "# Load the example car crash dataset\n",
    "#crashes = sns.load_dataset(\"car_crashes\").sort_values(\"total\", ascending=False)\n",
    "\n",
    "# Plot MBS persistence\n",
    "sns.set_color_codes(\"muted\")\n",
    "sns.barplot(x=\"Calc Ready\", y=\"COMBO_ADMIT\", data=dataset2,\n",
    "            label=\"MBS Persistence\", color=\"r\", ci=None)\n",
    "\n",
    "# Add a title\n",
    "plt.title(\"Calculus Readiness by Admit Group\", fontweight=\"bold\", fontsize=16, loc=\"center\", y=1.05)\n",
    "\n",
    "# Add a legend and informative axis label\n",
    "#ax.legend(ncol=2, loc=\"upper left\", frameon=True, bbox_to_anchor=(0,1.1))\n",
    "ax.set(xlim=(0, 1), ylabel=\"Admit Group\",\n",
    "       xlabel=\"% Calculus Ready\")\n",
    "sns.despine(left=True, bottom=True)\n",
    "\n",
    "# Iterate through the list of axes' patches\n",
    "for p in ax.patches:\n",
    "    ax.annotate(\"%.0f%s\" % (p.get_width()*100,'%'), (p.get_x() + p.get_width(), p.get_y() + 0.6),\n",
    "                xytext=(5, 10), textcoords='offset points', va='center')\n",
    "    \n",
    "# Save graphic to specified path\n",
    "#plt.savefig(path + '/mbs_calculus_readyNAMED.png', dpi=300, format='png', frameon=False, bbox_inches='tight') # use format='svg' or 'pdf' for vectorial pictures"
   ]
  },
  {
   "cell_type": "code",
   "execution_count": 563,
   "metadata": {},
   "outputs": [
    {
     "data": {
      "image/png": "[encoded data removed]",
      "text/plain": [
       "<matplotlib.figure.Figure at 0xc8d5d68>"
      ]
     },
     "metadata": {},
     "output_type": "display_data"
    }
   ],
   "source": [
    "# Initialize the matplotlib figure\n",
    "f, ax = plt.subplots()\n",
    "\n",
    "sns.set_color_codes(\"muted\")\n",
    "sns.barplot(x=\"PERSIST_YR2_DEC_N\", y=\"COMBO_ADMIT\", hue=\"Calc Ready\", data=dataset3.loc[dataset3['COMBO_ADMIT']!='XFR_UGBU'],\n",
    "            color=\"y\", ci=None)\n",
    "\n",
    "# Add a title\n",
    "plt.title(\"Year 2 UM Persistence by Calculus Readiness and Admit Group\", fontweight=\"bold\", fontsize=16, loc=\"center\", y=1.08)\n",
    "\n",
    "# Add a legend and informative axis label\n",
    "ax.legend(ncol=2, loc=\"upper left\", frameon=True, bbox_to_anchor=(0,1.1))\n",
    "ax.set(xlim=(0, 1), ylabel=\"Admit Group\",\n",
    "       xlabel=\"Persistence Rate\")\n",
    "sns.despine(left=True, bottom=True)\n",
    "\n",
    "\n",
    "# Iterate through the list of axes' patches\n",
    "for p in ax.patches:\n",
    "    ax.annotate(\"%.0f%s\" % (p.get_width()*100,'%'), (p.get_x() + p.get_width(), p.get_y() + 0.3),\n",
    "                xytext=(5, 10), textcoords='offset points', va='center')\n",
    "\n",
    "# Save graphic to specified path\n",
    "plt.savefig(path + '/um_yr2_persistence_calc_ready.jpg', dpi=300, format='jpg', frameon=False, bbox_inches='tight') # use format='svg' or 'pdf' for vectorial pictures"
   ]
  },
  {
   "cell_type": "code",
   "execution_count": 564,
   "metadata": {},
   "outputs": [
    {
     "data": {
      "image/png": "[encoded data removed]",
      "text/plain": [
       "<matplotlib.figure.Figure at 0x120a1eb8>"
      ]
     },
     "metadata": {},
     "output_type": "display_data"
    }
   ],
   "source": [
    "# Initialize the matplotlib figure\n",
    "f, ax = plt.subplots()\n",
    "\n",
    "sns.set_color_codes(\"muted\")\n",
    "sns.barplot(x=\"PERSIST_BU_YR2_OF_PERSIST\", y=\"COMBO_ADMIT\", hue=\"Calc Ready\", data=dataset3.loc[dataset3['COMBO_ADMIT']!='XFR_UGBU'],\n",
    "            color=\"y\", ci=None)\n",
    "\n",
    "# Add a title\n",
    "plt.title(\"Year 2 MBS Persistence by Calculus Readiness and Admit Group\", fontweight=\"bold\", fontsize=16, loc=\"center\", y=1.08)\n",
    "\n",
    "# Add a legend and informative axis label\n",
    "ax.legend(ncol=2, loc=\"upper left\", frameon=True, bbox_to_anchor=(0,1.1))\n",
    "ax.set(xlim=(0, 1), ylabel=\"Admit Group\",\n",
    "       xlabel=\"Persistence Rate\")\n",
    "sns.despine(left=True, bottom=True)\n",
    "\n",
    "\n",
    "# Iterate through the list of axes' patches\n",
    "for p in ax.patches:\n",
    "    ax.annotate(\"%.0f%s\" % (p.get_width()*100,'%'), (p.get_x() + p.get_width(), p.get_y() + 0.3),\n",
    "                xytext=(5, 10), textcoords='offset points', va='center')\n",
    "\n",
    "# Save graphic to specified path\n",
    "plt.savefig(path + '/mbs_yr2_persistence_calc_ready.jpg', dpi=300, format='jpg', frameon=False, bbox_inches='tight') # use format='svg' or 'pdf' for vectorial pictures"
   ]
  },
  {
   "cell_type": "code",
   "execution_count": 32,
   "metadata": {},
   "outputs": [],
   "source": [
    "dataset4 = dataset2[['ID','PERSIST_YR1',\"PERSIST_YR2_DEC_N\",\"PERSIST_BU_YR1_OF_PERSIST\",\"PERSIST_BU_YR2_OF_PERSIST\",'COMBO_ADMIT','MTH 161 Pass Fail']]"
   ]
  },
  {
   "cell_type": "code",
   "execution_count": 33,
   "metadata": {},
   "outputs": [],
   "source": [
    "dataset5 = dataset4.loc[dataset4['COMBO_ADMIT']!='MBS Transfers']"
   ]
  },
  {
   "cell_type": "code",
   "execution_count": 34,
   "metadata": {
    "scrolled": false
   },
   "outputs": [
    {
     "name": "stderr",
     "output_type": "stream",
     "text": [
      "No handles with labels found to put in legend.\n"
     ]
    },
    {
     "data": {
      "image/png": "[encoded data removed]",
      "text/plain": [
       "<Figure size 432x288 with 1 Axes>"
      ]
     },
     "metadata": {},
     "output_type": "display_data"
    }
   ],
   "source": [
    "# Initialize the matplotlib figure\n",
    "f, ax = plt.subplots()\n",
    "\n",
    "sns.set_color_codes(\"muted\")\n",
    "sns.barplot(x=\"PERSIST_YR1\", y=\"COMBO_ADMIT\", data=dataset5.loc[dataset5['MTH 161 Pass Fail']== 'PASS' ],\n",
    "            color=\"g\", ci=None)\n",
    "\n",
    "# Add a title\n",
    "plt.title(\"Freshmen UM Persistence by Completion of MTH 161\", fontweight=\"bold\", fontsize=16, loc=\"center\", y=1.08)\n",
    "\n",
    "# Add a legend and informative axis label\n",
    "ax.legend(ncol=4, loc=\"upper left\", frameon=True, bbox_to_anchor=(0,1.1))\n",
    "ax.set(xlim=(0, 1), ylabel=\"Admit Group\",\n",
    "       xlabel=\"Persistence Rate\")\n",
    "sns.despine(left=True, bottom=True)\n",
    "\n",
    "\n",
    "# Iterate through the list of axes' patches\n",
    "for p in ax.patches:\n",
    "    ax.annotate(\"%.0f%s\" % (p.get_width()*100,'%'), (p.get_x() + p.get_width(), p.get_y() + 0.21),\n",
    "                xytext=(5, 10), textcoords='offset points', va='center')\n",
    "\n",
    "# Save graphic to specified path\n",
    "#plt.savefig(path + '/calculus_completion_um_yr1PASSonly.png', dpi=300, format='png', frameon=False, bbox_inches='tight') # use format='svg' or 'pdf' for vectorial pictures"
   ]
  },
  {
   "cell_type": "code",
   "execution_count": 35,
   "metadata": {},
   "outputs": [
    {
     "name": "stderr",
     "output_type": "stream",
     "text": [
      "No handles with labels found to put in legend.\n"
     ]
    },
    {
     "data": {
      "image/png": "[encoded data removed]",
      "text/plain": [
       "<Figure size 432x288 with 1 Axes>"
      ]
     },
     "metadata": {},
     "output_type": "display_data"
    }
   ],
   "source": [
    "# Initialize the matplotlib figure\n",
    "f, ax = plt.subplots()\n",
    "\n",
    "sns.set_color_codes(\"muted\")\n",
    "sns.barplot(x=\"PERSIST_YR2_DEC_N\", y=\"COMBO_ADMIT\", data=dataset5.loc[dataset5['MTH 161 Pass Fail']== 'PASS' ],\n",
    "            color=\"g\", ci=None)\n",
    "\n",
    "# Add a title\n",
    "plt.title(\"Sophomore UM Persistence by Completion of MTH 161\", fontweight=\"bold\", fontsize=16, loc=\"center\", y=1.08)\n",
    "\n",
    "# Add a legend and informative axis label\n",
    "ax.legend(ncol=4, loc=\"upper left\", frameon=True, bbox_to_anchor=(0,1.1))\n",
    "ax.set(xlim=(0, 1), ylabel=\"Admit Group\",\n",
    "       xlabel=\"Persistence Rate\")\n",
    "sns.despine(left=True, bottom=True)\n",
    "\n",
    "\n",
    "# Iterate through the list of axes' patches\n",
    "for p in ax.patches:\n",
    "    ax.annotate(\"%.0f%s\" % (p.get_width()*100,'%'), (p.get_x() + p.get_width(), p.get_y() + 0.21),\n",
    "                xytext=(5, 10), textcoords='offset points', va='center')\n",
    "\n",
    "# Save graphic to specified path\n",
    "#plt.savefig(path + '/calculus_completion_um_yr1PASSonly.png', dpi=300, format='png', frameon=False, bbox_inches='tight') # use format='svg' or 'pdf' for vectorial pictures"
   ]
  },
  {
   "cell_type": "code",
   "execution_count": 577,
   "metadata": {},
   "outputs": [],
   "source": [
    "#Calculus ready fr vs xfr vs adbu\n",
    "#By URM, FGEN, NDRK7, CC"
   ]
  },
  {
   "cell_type": "code",
   "execution_count": 37,
   "metadata": {},
   "outputs": [
    {
     "data": {
      "image/png": "[encoded data removed]",
      "text/plain": [
       "<Figure size 432x288 with 1 Axes>"
      ]
     },
     "metadata": {},
     "output_type": "display_data"
    }
   ],
   "source": [
    "# Initialize the matplotlib figure\n",
    "f, ax = plt.subplots()\n",
    "\n",
    "# Load the example car crash dataset\n",
    "#crashes = sns.load_dataset(\"car_crashes\").sort_values(\"total\", ascending=False)\n",
    "\n",
    "# Plot MBS persistence\n",
    "sns.set_color_codes(\"muted\")\n",
    "sns.barplot(x=\"Calc Ready\", y=\"COMBO_ADMIT\", data=dataset2,\n",
    "            label=\"MBS Persistence\", color=\"r\", ci=None)\n",
    "\n",
    "# Add a title\n",
    "plt.title(\"Calculus Readiness by Admit Group\", fontweight=\"bold\", fontsize=16, loc=\"center\", y=1.05)\n",
    "\n",
    "# Add a legend and informative axis label\n",
    "#ax.legend(ncol=2, loc=\"upper left\", frameon=True, bbox_to_anchor=(0,1.1))\n",
    "ax.set(xlim=(0, 1), ylabel=\"Admit Group\",\n",
    "       xlabel=\"% Calculus Ready\")\n",
    "sns.despine(left=True, bottom=True)\n",
    "\n",
    "# Iterate through the list of axes' patches\n",
    "for p in ax.patches:\n",
    "    ax.annotate(\"%.0f%s\" % (p.get_width()*100,'%'), (p.get_x() + p.get_width(), p.get_y() + 0.6),\n",
    "                xytext=(5, 10), textcoords='offset points', va='center')\n",
    "    \n",
    "# Save graphic to specified path\n",
    "#plt.savefig(path + '/mbs_calculus_ready.jpg', dpi=300, format='jpg', frameon=False, bbox_inches='tight') # use format='svg' or 'pdf' for vectorial pictures"
   ]
  },
  {
   "cell_type": "code",
   "execution_count": null,
   "metadata": {},
   "outputs": [],
   "source": []
  }
 ],
 "metadata": {
  "kernelspec": {
   "display_name": "Python [default]",
   "language": "python",
   "name": "python3"
  },
  "language_info": {
   "codemirror_mode": {
    "name": "ipython",
    "version": 3
   },
   "file_extension": ".py",
   "mimetype": "text/x-python",
   "name": "python",
   "nbconvert_exporter": "python",
   "pygments_lexer": "ipython3",
   "version": "3.6.6"
  }
 },
 "nbformat": 4,
 "nbformat_minor": 2
}
